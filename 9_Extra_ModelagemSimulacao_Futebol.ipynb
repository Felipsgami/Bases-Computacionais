{
  "nbformat": 4,
  "nbformat_minor": 0,
  "metadata": {
    "colab": {
      "name": "9_Extra_ModelagemSimulacao_Futebol.ipynb",
      "provenance": [],
      "collapsed_sections": [],
      "toc_visible": true
    },
    "kernelspec": {
      "name": "python3",
      "display_name": "Python 3"
    }
  },
  "cells": [
    {
      "cell_type": "markdown",
      "metadata": {
        "id": "sDSGhkX0Ddkz"
      },
      "source": [
        "# Modelagem e Simulação \n"
      ]
    },
    {
      "cell_type": "markdown",
      "metadata": {
        "id": "MBe-_8TqClwD"
      },
      "source": [
        "# Quem será o campeão? \n",
        "\n",
        "Uma das paixões no Brasil é o futebol. A cada campeonato, diversos especialistas analisam elencos, táticas, etc., para tentar prever quem será o campeão. Neste *notebook*, iremos construir um simulador simples para tentar prever qual time vai ser o campeão. \n",
        "\n",
        "A simulação usa o [ranqueamento global de clubles](https://projects.fivethirtyeight.com/global-club-soccer-rankings/), mantido pelo *site* de predições [fivethirdeight](https://fivethirtyeight.com/). Esse ranqueamento é atualizado frequentemente, e pode ser baixado nesse [link](https://data.fivethirtyeight.com/#soccer-spi). Nessa simulação, usaremos uma cópia baixada no dia 09 de novembro de 2020, e que pode ser vista [nesse endereço](https://drive.google.com/file/d/1XJpC_XY5Pf-AIhBvKrCQVyuUa_357MSf/view?usp=sharing).\n",
        "\n",
        "Vamos carregar essa base usando o pandas. Além dela, vamos carregar  outra bibliotecas que usaremos: numpy."
      ]
    },
    {
      "cell_type": "markdown",
      "metadata": {
        "id": "QfRkgIVExQA4"
      },
      "source": [
        ""
      ]
    },
    {
      "cell_type": "code",
      "metadata": {
        "id": "Ux90oENcU7Kn"
      },
      "source": [
        "import pandas as pd\n",
        "import numpy as np"
      ],
      "execution_count": null,
      "outputs": []
    },
    {
      "cell_type": "code",
      "metadata": {
        "id": "ZHLEMpXIDuYB"
      },
      "source": [
        "clubes = pd.read_csv(\"https://drive.google.com/u/3/uc?id=1XJpC_XY5Pf-AIhBvKrCQVyuUa_357MSf&export=download\",index_col='name')"
      ],
      "execution_count": null,
      "outputs": []
    },
    {
      "cell_type": "markdown",
      "metadata": {
        "id": "YcqHObNsKo4b"
      },
      "source": [
        "Analisando uma amostra dos dados, como mostrado na próxima célula, podemos observar que, para cada clube, ela contém o rank atual (`rank`), o rank do ano anterior (`prev_rank`), o nome do clube (`name`), o seu potencial ofensivo (`off`) e defensivo (`def`), e o potencial de pontuação (`spi`).\n",
        "\n"
      ]
    },
    {
      "cell_type": "code",
      "metadata": {
        "id": "He58tb4xD5ox",
        "colab": {
          "base_uri": "https://localhost:8080/",
          "height": 394
        },
        "outputId": "fcbc90f0-5a90-4941-fd58-5f6951395564"
      },
      "source": [
        "clubes.sample(10) # mostra 10 linhas aleatorias da tabela"
      ],
      "execution_count": null,
      "outputs": [
        {
          "output_type": "execute_result",
          "data": {
            "text/html": [
              "<div>\n",
              "<style scoped>\n",
              "    .dataframe tbody tr th:only-of-type {\n",
              "        vertical-align: middle;\n",
              "    }\n",
              "\n",
              "    .dataframe tbody tr th {\n",
              "        vertical-align: top;\n",
              "    }\n",
              "\n",
              "    .dataframe thead th {\n",
              "        text-align: right;\n",
              "    }\n",
              "</style>\n",
              "<table border=\"1\" class=\"dataframe\">\n",
              "  <thead>\n",
              "    <tr style=\"text-align: right;\">\n",
              "      <th></th>\n",
              "      <th>rank</th>\n",
              "      <th>prev_rank</th>\n",
              "      <th>league</th>\n",
              "      <th>off</th>\n",
              "      <th>def</th>\n",
              "      <th>spi</th>\n",
              "    </tr>\n",
              "    <tr>\n",
              "      <th>name</th>\n",
              "      <th></th>\n",
              "      <th></th>\n",
              "      <th></th>\n",
              "      <th></th>\n",
              "      <th></th>\n",
              "      <th></th>\n",
              "    </tr>\n",
              "  </thead>\n",
              "  <tbody>\n",
              "    <tr>\n",
              "      <th>Stevenage</th>\n",
              "      <td>632</td>\n",
              "      <td>631</td>\n",
              "      <td>English League Two</td>\n",
              "      <td>0.20</td>\n",
              "      <td>2.08</td>\n",
              "      <td>7.69</td>\n",
              "    </tr>\n",
              "    <tr>\n",
              "      <th>CFR 1907 Cluj</th>\n",
              "      <td>183</td>\n",
              "      <td>179</td>\n",
              "      <td>UEFA Europa League</td>\n",
              "      <td>1.50</td>\n",
              "      <td>1.26</td>\n",
              "      <td>51.38</td>\n",
              "    </tr>\n",
              "    <tr>\n",
              "      <th>Espanyol</th>\n",
              "      <td>88</td>\n",
              "      <td>98</td>\n",
              "      <td>Spanish Segunda Division</td>\n",
              "      <td>1.55</td>\n",
              "      <td>0.84</td>\n",
              "      <td>62.65</td>\n",
              "    </tr>\n",
              "    <tr>\n",
              "      <th>Arsenal</th>\n",
              "      <td>22</td>\n",
              "      <td>19</td>\n",
              "      <td>Barclays Premier League</td>\n",
              "      <td>2.10</td>\n",
              "      <td>0.56</td>\n",
              "      <td>79.46</td>\n",
              "    </tr>\n",
              "    <tr>\n",
              "      <th>Molde</th>\n",
              "      <td>168</td>\n",
              "      <td>156</td>\n",
              "      <td>Norwegian Tippeligaen</td>\n",
              "      <td>1.89</td>\n",
              "      <td>1.57</td>\n",
              "      <td>52.84</td>\n",
              "    </tr>\n",
              "    <tr>\n",
              "      <th>Rangers</th>\n",
              "      <td>66</td>\n",
              "      <td>79</td>\n",
              "      <td>Scottish Premiership</td>\n",
              "      <td>1.83</td>\n",
              "      <td>0.91</td>\n",
              "      <td>66.65</td>\n",
              "    </tr>\n",
              "    <tr>\n",
              "      <th>Rodez</th>\n",
              "      <td>537</td>\n",
              "      <td>532</td>\n",
              "      <td>French Ligue 2</td>\n",
              "      <td>0.71</td>\n",
              "      <td>1.75</td>\n",
              "      <td>22.29</td>\n",
              "    </tr>\n",
              "    <tr>\n",
              "      <th>Crewe Alexandra</th>\n",
              "      <td>600</td>\n",
              "      <td>595</td>\n",
              "      <td>English League One</td>\n",
              "      <td>0.43</td>\n",
              "      <td>1.89</td>\n",
              "      <td>14.19</td>\n",
              "    </tr>\n",
              "    <tr>\n",
              "      <th>Exeter City</th>\n",
              "      <td>589</td>\n",
              "      <td>586</td>\n",
              "      <td>English League Two</td>\n",
              "      <td>0.60</td>\n",
              "      <td>2.04</td>\n",
              "      <td>15.99</td>\n",
              "    </tr>\n",
              "    <tr>\n",
              "      <th>Pordenone Calcio</th>\n",
              "      <td>522</td>\n",
              "      <td>519</td>\n",
              "      <td>Italy Serie B</td>\n",
              "      <td>0.75</td>\n",
              "      <td>1.71</td>\n",
              "      <td>24.01</td>\n",
              "    </tr>\n",
              "  </tbody>\n",
              "</table>\n",
              "</div>"
            ],
            "text/plain": [
              "                  rank  prev_rank                    league   off   def    spi\n",
              "name                                                                          \n",
              "Stevenage          632        631        English League Two  0.20  2.08   7.69\n",
              "CFR 1907 Cluj      183        179        UEFA Europa League  1.50  1.26  51.38\n",
              "Espanyol            88         98  Spanish Segunda Division  1.55  0.84  62.65\n",
              "Arsenal             22         19   Barclays Premier League  2.10  0.56  79.46\n",
              "Molde              168        156     Norwegian Tippeligaen  1.89  1.57  52.84\n",
              "Rangers             66         79      Scottish Premiership  1.83  0.91  66.65\n",
              "Rodez              537        532            French Ligue 2  0.71  1.75  22.29\n",
              "Crewe Alexandra    600        595        English League One  0.43  1.89  14.19\n",
              "Exeter City        589        586        English League Two  0.60  2.04  15.99\n",
              "Pordenone Calcio   522        519             Italy Serie B  0.75  1.71  24.01"
            ]
          },
          "metadata": {},
          "execution_count": 3
        }
      ]
    },
    {
      "cell_type": "markdown",
      "metadata": {
        "id": "hKPNkDeOgBHR"
      },
      "source": [
        "## Selecionando um clube\n",
        "\n",
        "Podemos selecionar um clube específico usando o comando `.loc`, e colocando o nome do clube entre colchetes. Por exemplo, para selecionar o Barcelona, podemos fazer:"
      ]
    },
    {
      "cell_type": "code",
      "metadata": {
        "id": "9aUAx3K_gMU0"
      },
      "source": [
        "clubes.loc['Barcelona']"
      ],
      "execution_count": null,
      "outputs": []
    },
    {
      "cell_type": "markdown",
      "metadata": {
        "id": "_EEViOPzNDGq"
      },
      "source": [
        "## Potencial ofensivo e defensivo\n",
        "\n",
        "\n",
        "A nossa simulação irá se basear no **potencial ofensivo** e **defensivo** de cada clube. \n",
        "\n",
        "Sobre potencial ofensivo `off` temos que:\n",
        "* é o número médio de gols que se espera que um clube marque enfrentado um clube com potencial defensivo igual a 1. \n",
        "* Por exemplo, o valor de off=1,5 para um \"clube A\" indica que se ele jogar 10 partidas contra um \"clube B\" com def=1, espera-se que o \"clube A\" marque 15 gols em um campo neutro (marcará 1,5 gol em média). \n",
        "\n",
        "Sobre potencial defensivo `def` temos que:\n",
        "* é o número de gols que se espera que um clube sofra, enfrentando um clube com potencial ofensivo = 1.\n",
        "* Por exemplo, o valor de def=1,5 de um \"clube B\" indica que se ele jogar 10 partidas contra um \"clube A\" com off=1, em um campo neutro, o \"clube B\" sofrerá 15 gols (sofrerá 1,5 gol em média).\n",
        "\n",
        "\n",
        "A simulação do site [fivethirdeight](https://projects.fivethirtyeight.com/soccer-predictions/brasileirao/) é bem mais complexa, e contempla diversos fatores adicionais:\n",
        "* se o time está jogando em seu estádio ou fora dele;\n",
        "* a dificuldade do campeonato;\n",
        "* a incerteza a respeito do potencial ofensivo e defensivo\n",
        "* a evolução desses potenciais ao longo do tempo. \n",
        "\n",
        "Além disso, ela é refeita com os resultados das partidas já disputadas, simulando o restante do campeonato. Mas a nossa simulação é uma boa aproximação. "
      ]
    },
    {
      "cell_type": "markdown",
      "metadata": {
        "id": "JjiQOKVPSe5o"
      },
      "source": [
        "# Campeonato Brasileiro\n",
        "Vamos filtrar apenas os 20 clubes da Série A do Campeonato Brasileiro. "
      ]
    },
    {
      "cell_type": "code",
      "metadata": {
        "id": "PXn30vs4E9cY",
        "colab": {
          "base_uri": "https://localhost:8080/",
          "height": 708
        },
        "outputId": "2ebc155d-44f4-4343-a4c3-646423f127da"
      },
      "source": [
        "brasileiro = clubes.query(\"league == 'Brasileiro Série A'\")\n",
        "brasileiro"
      ],
      "execution_count": null,
      "outputs": [
        {
          "output_type": "execute_result",
          "data": {
            "text/html": [
              "<div>\n",
              "<style scoped>\n",
              "    .dataframe tbody tr th:only-of-type {\n",
              "        vertical-align: middle;\n",
              "    }\n",
              "\n",
              "    .dataframe tbody tr th {\n",
              "        vertical-align: top;\n",
              "    }\n",
              "\n",
              "    .dataframe thead th {\n",
              "        text-align: right;\n",
              "    }\n",
              "</style>\n",
              "<table border=\"1\" class=\"dataframe\">\n",
              "  <thead>\n",
              "    <tr style=\"text-align: right;\">\n",
              "      <th></th>\n",
              "      <th>rank</th>\n",
              "      <th>prev_rank</th>\n",
              "      <th>league</th>\n",
              "      <th>off</th>\n",
              "      <th>def</th>\n",
              "      <th>spi</th>\n",
              "    </tr>\n",
              "    <tr>\n",
              "      <th>name</th>\n",
              "      <th></th>\n",
              "      <th></th>\n",
              "      <th></th>\n",
              "      <th></th>\n",
              "      <th></th>\n",
              "      <th></th>\n",
              "    </tr>\n",
              "  </thead>\n",
              "  <tbody>\n",
              "    <tr>\n",
              "      <th>Flamengo</th>\n",
              "      <td>55</td>\n",
              "      <td>50</td>\n",
              "      <td>Brasileiro Série A</td>\n",
              "      <td>2.00</td>\n",
              "      <td>0.96</td>\n",
              "      <td>68.72</td>\n",
              "    </tr>\n",
              "    <tr>\n",
              "      <th>Grêmio</th>\n",
              "      <td>83</td>\n",
              "      <td>91</td>\n",
              "      <td>Brasileiro Série A</td>\n",
              "      <td>1.60</td>\n",
              "      <td>0.85</td>\n",
              "      <td>63.57</td>\n",
              "    </tr>\n",
              "    <tr>\n",
              "      <th>São Paulo</th>\n",
              "      <td>89</td>\n",
              "      <td>86</td>\n",
              "      <td>Brasileiro Série A</td>\n",
              "      <td>1.51</td>\n",
              "      <td>0.81</td>\n",
              "      <td>62.57</td>\n",
              "    </tr>\n",
              "    <tr>\n",
              "      <th>Palmeiras</th>\n",
              "      <td>100</td>\n",
              "      <td>116</td>\n",
              "      <td>Brasileiro Série A</td>\n",
              "      <td>1.56</td>\n",
              "      <td>0.92</td>\n",
              "      <td>60.88</td>\n",
              "    </tr>\n",
              "    <tr>\n",
              "      <th>Atletico Mineiro</th>\n",
              "      <td>105</td>\n",
              "      <td>100</td>\n",
              "      <td>Brasileiro Série A</td>\n",
              "      <td>1.69</td>\n",
              "      <td>1.04</td>\n",
              "      <td>60.65</td>\n",
              "    </tr>\n",
              "    <tr>\n",
              "      <th>Internacional</th>\n",
              "      <td>123</td>\n",
              "      <td>113</td>\n",
              "      <td>Brasileiro Série A</td>\n",
              "      <td>1.44</td>\n",
              "      <td>0.92</td>\n",
              "      <td>58.15</td>\n",
              "    </tr>\n",
              "    <tr>\n",
              "      <th>Santos</th>\n",
              "      <td>154</td>\n",
              "      <td>150</td>\n",
              "      <td>Brasileiro Série A</td>\n",
              "      <td>1.38</td>\n",
              "      <td>1.02</td>\n",
              "      <td>54.27</td>\n",
              "    </tr>\n",
              "    <tr>\n",
              "      <th>Atlético Paranaense</th>\n",
              "      <td>178</td>\n",
              "      <td>193</td>\n",
              "      <td>Brasileiro Série A</td>\n",
              "      <td>1.21</td>\n",
              "      <td>0.95</td>\n",
              "      <td>51.83</td>\n",
              "    </tr>\n",
              "    <tr>\n",
              "      <th>Fluminense</th>\n",
              "      <td>182</td>\n",
              "      <td>177</td>\n",
              "      <td>Brasileiro Série A</td>\n",
              "      <td>1.27</td>\n",
              "      <td>1.02</td>\n",
              "      <td>51.46</td>\n",
              "    </tr>\n",
              "    <tr>\n",
              "      <th>Bahía</th>\n",
              "      <td>185</td>\n",
              "      <td>192</td>\n",
              "      <td>Brasileiro Série A</td>\n",
              "      <td>1.35</td>\n",
              "      <td>1.12</td>\n",
              "      <td>51.10</td>\n",
              "    </tr>\n",
              "    <tr>\n",
              "      <th>Corinthians</th>\n",
              "      <td>204</td>\n",
              "      <td>205</td>\n",
              "      <td>Brasileiro Série A</td>\n",
              "      <td>1.25</td>\n",
              "      <td>1.09</td>\n",
              "      <td>49.28</td>\n",
              "    </tr>\n",
              "    <tr>\n",
              "      <th>Bragantino</th>\n",
              "      <td>209</td>\n",
              "      <td>214</td>\n",
              "      <td>Brasileiro Série A</td>\n",
              "      <td>1.26</td>\n",
              "      <td>1.12</td>\n",
              "      <td>48.81</td>\n",
              "    </tr>\n",
              "    <tr>\n",
              "      <th>Ceará</th>\n",
              "      <td>213</td>\n",
              "      <td>217</td>\n",
              "      <td>Brasileiro Série A</td>\n",
              "      <td>1.25</td>\n",
              "      <td>1.12</td>\n",
              "      <td>48.46</td>\n",
              "    </tr>\n",
              "    <tr>\n",
              "      <th>Fortaleza</th>\n",
              "      <td>216</td>\n",
              "      <td>206</td>\n",
              "      <td>Brasileiro Série A</td>\n",
              "      <td>1.13</td>\n",
              "      <td>1.02</td>\n",
              "      <td>47.85</td>\n",
              "    </tr>\n",
              "    <tr>\n",
              "      <th>Botafogo</th>\n",
              "      <td>226</td>\n",
              "      <td>228</td>\n",
              "      <td>Brasileiro Série A</td>\n",
              "      <td>1.25</td>\n",
              "      <td>1.21</td>\n",
              "      <td>46.36</td>\n",
              "    </tr>\n",
              "    <tr>\n",
              "      <th>Atlético Goianiense</th>\n",
              "      <td>248</td>\n",
              "      <td>251</td>\n",
              "      <td>Brasileiro Série A</td>\n",
              "      <td>1.14</td>\n",
              "      <td>1.21</td>\n",
              "      <td>43.60</td>\n",
              "    </tr>\n",
              "    <tr>\n",
              "      <th>Vasco da Gama</th>\n",
              "      <td>262</td>\n",
              "      <td>256</td>\n",
              "      <td>Brasileiro Série A</td>\n",
              "      <td>1.16</td>\n",
              "      <td>1.27</td>\n",
              "      <td>42.75</td>\n",
              "    </tr>\n",
              "    <tr>\n",
              "      <th>Coritiba</th>\n",
              "      <td>266</td>\n",
              "      <td>278</td>\n",
              "      <td>Brasileiro Série A</td>\n",
              "      <td>1.13</td>\n",
              "      <td>1.25</td>\n",
              "      <td>42.54</td>\n",
              "    </tr>\n",
              "    <tr>\n",
              "      <th>Sport Recife</th>\n",
              "      <td>295</td>\n",
              "      <td>284</td>\n",
              "      <td>Brasileiro Série A</td>\n",
              "      <td>1.12</td>\n",
              "      <td>1.31</td>\n",
              "      <td>40.78</td>\n",
              "    </tr>\n",
              "    <tr>\n",
              "      <th>Goiás</th>\n",
              "      <td>318</td>\n",
              "      <td>325</td>\n",
              "      <td>Brasileiro Série A</td>\n",
              "      <td>1.17</td>\n",
              "      <td>1.44</td>\n",
              "      <td>39.33</td>\n",
              "    </tr>\n",
              "  </tbody>\n",
              "</table>\n",
              "</div>"
            ],
            "text/plain": [
              "                     rank  prev_rank              league   off   def    spi\n",
              "name                                                                       \n",
              "Flamengo               55         50  Brasileiro Série A  2.00  0.96  68.72\n",
              "Grêmio                 83         91  Brasileiro Série A  1.60  0.85  63.57\n",
              "São Paulo              89         86  Brasileiro Série A  1.51  0.81  62.57\n",
              "Palmeiras             100        116  Brasileiro Série A  1.56  0.92  60.88\n",
              "Atletico Mineiro      105        100  Brasileiro Série A  1.69  1.04  60.65\n",
              "Internacional         123        113  Brasileiro Série A  1.44  0.92  58.15\n",
              "Santos                154        150  Brasileiro Série A  1.38  1.02  54.27\n",
              "Atlético Paranaense   178        193  Brasileiro Série A  1.21  0.95  51.83\n",
              "Fluminense            182        177  Brasileiro Série A  1.27  1.02  51.46\n",
              "Bahía                 185        192  Brasileiro Série A  1.35  1.12  51.10\n",
              "Corinthians           204        205  Brasileiro Série A  1.25  1.09  49.28\n",
              "Bragantino            209        214  Brasileiro Série A  1.26  1.12  48.81\n",
              "Ceará                 213        217  Brasileiro Série A  1.25  1.12  48.46\n",
              "Fortaleza             216        206  Brasileiro Série A  1.13  1.02  47.85\n",
              "Botafogo              226        228  Brasileiro Série A  1.25  1.21  46.36\n",
              "Atlético Goianiense   248        251  Brasileiro Série A  1.14  1.21  43.60\n",
              "Vasco da Gama         262        256  Brasileiro Série A  1.16  1.27  42.75\n",
              "Coritiba              266        278  Brasileiro Série A  1.13  1.25  42.54\n",
              "Sport Recife          295        284  Brasileiro Série A  1.12  1.31  40.78\n",
              "Goiás                 318        325  Brasileiro Série A  1.17  1.44  39.33"
            ]
          },
          "metadata": {},
          "execution_count": 4
        }
      ]
    },
    {
      "cell_type": "markdown",
      "metadata": {
        "id": "fj4e9icBTN8A"
      },
      "source": [
        "# Simulando jogos\n",
        "\n",
        "Para a simulação de jogos, vamos usar o **potencial ofensivo e defensivo** dos clubes envolvidos em um jogo. \n",
        "\n",
        "**Para simular o número de gols de cada equipe, vamos usar a distribuição de Poisson** (https://pt.wikipedia.org/wiki/Distribui%C3%A7%C3%A3o_de_Poisson). Em linhas gerais, essa distribuição modela eventos aleatórios com uma taxa $\\lambda$ conhecida. \n",
        "\n",
        "No caso de nossa simulação, usaremos duas distribuições de Poisson, sendo que cada uma delas é usada para simular o número de gols de cada time. Por exemplo, se os times $A$ e $B$ estão jogando, a taxa do time $A$ ($\\lambda_A$)  será a multiplicação entre o potencial ofensivo do time $A$ e do potencial defensivo do time $B$, como mostrado na equação:\n",
        "\n",
        "$$ \\lambda_A = \\text{off}_A \\times \\text{def}_B .$$\n",
        "\n",
        "Já a taxa do time $B$ ($\\lambda_B$)  será a razão entre o potencial ofensivo do time $B$ e do potencial defensivo do time $A$, como mostrado na equação:\n",
        "\n",
        "$$ \\lambda_B = \\text{off}_B \\times  \\text{def}_A .$$\n",
        "\n",
        "\n"
      ]
    },
    {
      "cell_type": "markdown",
      "metadata": {
        "id": "PysvaPi9Mm1d"
      },
      "source": [
        "Dessa maneira, se um time $A$ com um potencial ofensivo de 2 enfrentar um time B com potencial defensivo 1,5, o valor de $\\lambda_A = 3$, ou seja, espera-se que o time $A$ marque 3 gols em média por jogo contra o time $B$. Já se o time $B$ tem um potencial ofensivo de 2, mas o time $A$ tem um pontencial defensivo de 0,5, o valor de $\\lambda_B = 1$, ou seja, espera-se que o time $B$ marque apenas um gol em média por jogo contra o time $A$. \n"
      ]
    },
    {
      "cell_type": "markdown",
      "metadata": {
        "id": "Gjg_PRVYHmE-"
      },
      "source": [
        "**Em Python, podemos usar a função `random.poisson` da biblioteca `numpy` para simular o número de gols de cada time**. "
      ]
    },
    {
      "cell_type": "markdown",
      "metadata": {
        "id": "C0UCfzTRhQdh"
      },
      "source": [
        "## Simulando uma  partida\n",
        "\n",
        "Vamos receber dois times de nossa tabela e simular uma partida entre eles. \n",
        "\n",
        "Ou seja, iremos calcular o valor de $\\lambda_A$ e $\\lambda_B$ a partir do potencial ofensivo e defensivo de cada time, e calcular o número de gols de cada time."
      ]
    },
    {
      "cell_type": "markdown",
      "metadata": {
        "id": "NpwzQsJFSGWp"
      },
      "source": [
        "Como visto anteriormente, podemos selecionar um clube da tabela usando o comando `.loc`, por exemplo:"
      ]
    },
    {
      "cell_type": "code",
      "metadata": {
        "id": "EWSYT2dwRaVW"
      },
      "source": [
        "brasileiro.loc['Santos']"
      ],
      "execution_count": null,
      "outputs": []
    },
    {
      "cell_type": "markdown",
      "metadata": {
        "id": "mPyRBh7ckpRb"
      },
      "source": [
        "Execute o código abaixo com dois times de sua escolha. Observe que os valores de simulação podem variar se executarmos mais de uma vez, pois usamos a probabilidade na nossa simulação."
      ]
    },
    {
      "cell_type": "code",
      "metadata": {
        "id": "1ijgs1yvPhMm"
      },
      "source": [
        "timeA = input(\"Digite o nome de time A \")\n",
        "timeB = input(\"Digite o nome de time B \")\n",
        "\n",
        "lambdaA = brasileiro.loc[timeA,'off'] * brasileiro.loc[timeB,'def'] \n",
        "lambdaB = brasileiro.loc[timeB,'off'] * brasileiro.loc[timeA,'def'] \n",
        "\n",
        "golstimeA = np.random.poisson(lambdaA)\n",
        "golstimeB = np.random.poisson(lambdaB)\n",
        "\n",
        "print(\"Time A fez\", golstimeA, \"gols\")\n",
        "print(\"Time B fez\", golstimeB, \"gols\")"
      ],
      "execution_count": null,
      "outputs": []
    },
    {
      "cell_type": "markdown",
      "metadata": {
        "id": "JtPYop-pnfCp"
      },
      "source": [
        "### **Exercício:** \n",
        "\n",
        "O time que joga fora do seu estádio (o \"visitante\"), em geral, tem um potencial menor que o time que joga em seu estádio (o \"mandante\"). Considerando que o time $A$ é o mandante e o time $B$ é o visitante, crie uma versão do código que calcula o número de gols em uma partida em que o valor de $\\lambda$ tem uma redução de 20% para o time visitante.\n"
      ]
    },
    {
      "cell_type": "markdown",
      "metadata": {
        "id": "fW-M8Q0rrJwd"
      },
      "source": [
        "\n",
        "## Simulando campeonatos\n",
        "\n",
        "**Vamos simular agora um campeonato em que todos os times jogam contra todos os outros times duas vezes (campeonato de pontos corridos).** Como você deve saber, o vencedor da partida ganha 3 pontos. Em caso de empate, cada time ganha um ponto. \n",
        "\n",
        "Inicialmente vamos criar uma banco de dados para armazenar a tabela do campeonato. Nessa tabela, vamos armazenar:\n",
        "\n",
        "- total de **pontos** que o time conquistou no campeonato\n",
        "- número de **vitórias** que o time obteve no campeonato\n",
        "- numero de **empates** que o time obteve no campeonato\n",
        "- número de **derrotas** que o time obteve no campeonato\n",
        "- número de **gols marcados** por cada time no campeonato\n",
        "- número de **gols sofridos** por cada time no campeonato\n",
        "- diferença entre gols marcados e gols sofridos (**saldo de gols**) "
      ]
    },
    {
      "cell_type": "code",
      "metadata": {
        "id": "L0RE9rmqH8zV"
      },
      "source": [
        "# cria a tabela\n",
        "tabela = pd.DataFrame(index=brasileiro.index,columns=[\"pontos\", \"vitórias\", \"empates\", \"derrotas\", \"gols marcados\", \"gols sofridos\", \"saldo de gols\"])\n",
        "\n",
        "# inicializa os valores com zero\n",
        "tabela.fillna(0,inplace=True)\n",
        "\n",
        "# mostra a tabela\n",
        "tabela"
      ],
      "execution_count": null,
      "outputs": []
    },
    {
      "cell_type": "markdown",
      "metadata": {
        "id": "qqy2MQxFvTWV"
      },
      "source": [
        "**Como simular um campeonato em que todos os times jogam contra todos os outros times duas vezes (campeonato de pontos corridos)?**\n",
        "Uma maneira de fazer com que todos os times joguem contra todos os outros times duas vezes é usar um ***laço duplo***. Nesse laço duplo temos laço exeterno e laço interno. Para cada valor fixo de laço externo é percorrido o laço interno. No código abaixo vamos apenas imprimir quem joga contra quem e na qual ordem, para entender melhor como funciona o laço duplo."
      ]
    },
    {
      "cell_type": "code",
      "metadata": {
        "id": "BC-OTOxNm6Y5"
      },
      "source": [
        "contador_jogos=0\n",
        "for timeA in brasileiro.index:   # primeiro laço - laco EXTERNO\n",
        "  for timeB in brasileiro.index:     # segundo laço - laco INTERNO\n",
        "  # laco externo: fixamos primeiro time - Flamengo\n",
        "     # com primeiro time fixo, Flamengo, percorremos laco interno (todos os times)\n",
        "  # laco externo: fixamos segundo time - Gremio\n",
        "     # com segundo time fixo, Gremio, percorremos laco interno (todos os times)\n",
        "  # etc\n",
        "     if timeA != timeB:                  # se os times sao diferentes (o time não joga contra ele mesmo)\n",
        "         contador_jogos = contador_jogos+1             # aumentamos contador de jogos por 1\n",
        "         print(contador_jogos, timeA, \"-\", timeB)      # imprimimos o numero de jogo e os times que jogam"
      ],
      "execution_count": null,
      "outputs": []
    },
    {
      "cell_type": "markdown",
      "metadata": {
        "id": "jwobfCEuqDcZ"
      },
      "source": [
        "Note que de fato, cada time, joga contra todos os outros times duas vezes. \n",
        "\n",
        "Veja, por exemplo, Flamengo e Grêmio.\n",
        "\n",
        "Primeira vez jogam quando Flamengo está fixo no laço externo (e é percorrido todo laço interno) - jogo 1.\n",
        "\n",
        "Segunda vez jogam quando Grêmio está fixo no laço externo (e é percorrido todo laço interno) - jogo 20."
      ]
    },
    {
      "cell_type": "markdown",
      "metadata": {
        "id": "m44dz0u9mHmv"
      },
      "source": [
        "**Agora vamos simular os jogos. Vamos usar um laço duplo, e dentro de laço interno simulamos um jogo e atualizamos a tabela**: "
      ]
    },
    {
      "cell_type": "markdown",
      "metadata": {
        "id": "QmAGOZuR0qBR"
      },
      "source": [
        "Mostraremos o resultado da simulação, ordenando pelo número de pontos, número de vitórias, saldo de gols e número de gols marcados.\n",
        "\n",
        "Observe que a simulação pode variar se executarmos mais de uma vez, pois usamos a probabilidade na nossa simulação."
      ]
    },
    {
      "cell_type": "code",
      "metadata": {
        "id": "ywRcA0SI-UWz"
      },
      "source": [
        "# cria a tabela\n",
        "tabela = pd.DataFrame(index=brasileiro.index,columns=[\"pontos\", \"vitórias\", \"empates\", \"derrotas\", \"gols marcados\", \"gols sofridos\", \"saldo de gols\"])\n",
        "\n",
        "# inicializa os valores da tabela com zero\n",
        "tabela.fillna(0,inplace=True)\n",
        "\n",
        "# laco duplo:\n",
        "for timeA in brasileiro.index:   # primeiro laço - laco EXTERNO\n",
        "  for timeB in brasileiro.index: # segundo laço - laco INTERNO\n",
        "\n",
        "    if timeA != timeB: # o time não joga contra ele mesmo\n",
        "      # simula uma partida e numero de gols nesta partida, entre os times TimeA e TimeB (código ja visto acima)\n",
        "      lambdaA = brasileiro.loc[timeA,'off'] * brasileiro.loc[timeB,'def'] \n",
        "      lambdaB = brasileiro.loc[timeB,'off'] * brasileiro.loc[timeA,'def'] \n",
        "\n",
        "      golstimeA = np.random.poisson(lambdaA)\n",
        "      golstimeB = np.random.poisson(lambdaB)\n",
        "\n",
        "      # atualiza o número de gols marcados, sofridos e saldo\n",
        "      # abaixo, utilizamos simbolo += para deixar codigo mais legivel. Por exemplo, x += y e equivalente a x = x+y\n",
        "      # outro exemplo: tabela.loc[timeA,'pontos'] += 3   é equivalente a tabela.loc[timeA,'pontos'] = tabela.loc[timeA,'pontos'] + 3  \n",
        "      tabela.loc[timeA,'gols marcados'] += golstimeA\n",
        "      tabela.loc[timeB,'gols marcados'] += golstimeB\n",
        "\n",
        "      tabela.loc[timeA,'gols sofridos'] += golstimeB\n",
        "      tabela.loc[timeB,'gols sofridos'] += golstimeA\n",
        "\n",
        "      tabela.loc[timeA,'saldo de gols'] += golstimeA - golstimeB\n",
        "      tabela.loc[timeB,'saldo de gols'] += golstimeB - golstimeA\n",
        "\n",
        "      # finalmente, atualizamos os pontos e número de vitórias, empates e derrotas\n",
        "      if golstimeA > golstimeB:   # time A ganhou\n",
        "        tabela.loc[timeA,'pontos'] += 3  \n",
        "        tabela.loc[timeA,'vitórias'] += 1\n",
        "        tabela.loc[timeB,'derrotas'] += 1\n",
        "      elif golstimeA < golstimeB: # time B ganhou\n",
        "        tabela.loc[timeB,'pontos'] += 3  \n",
        "        tabela.loc[timeB,'vitórias'] += 1\n",
        "        tabela.loc[timeA,'derrotas'] += 1\n",
        "      else:                       # os times empataram\n",
        "        tabela.loc[timeA,'pontos'] += 1\n",
        "        tabela.loc[timeB,'pontos'] += 1\n",
        "        tabela.loc[timeA,'empates'] += 1\n",
        "        tabela.loc[timeB,'empates'] += 1\n",
        "\n",
        "# o resultado da simulação, ordenando pelo número de pontos, número de vitórias, saldo de gols e número de gols marcados  \n",
        "tabela.sort_values(['pontos','vitórias','saldo de gols','gols marcados'],ascending=False, inplace=True)\n",
        "# imprimimos a tabela\n",
        "tabela"
      ],
      "execution_count": null,
      "outputs": []
    },
    {
      "cell_type": "markdown",
      "metadata": {
        "id": "lWwo8w_zLSds"
      },
      "source": [
        "### **Exercícios**:\n",
        "\n",
        "1. Calcule a correlação entre o potencial ofensivo de cada time e o número de gols marcados em uma simulação. O que você pode dizer a respeito dessa correlação?\n",
        "\n",
        "2. Calcule a correlação entre o potencial defensivo de cada time e o número de gols marcados em uma simulação. O que você pode dizer a respeito dessa correlação?\n",
        "\n",
        "3. Calcule a correlação entre o número de pontos de uma simulação e o o seu `spi`. O que você pode dizer a respeito dessa correlação? \n"
      ]
    },
    {
      "cell_type": "markdown",
      "metadata": {
        "id": "IKq6MwPppQLA"
      },
      "source": [
        "### **Exercícios**:\n",
        "\n",
        "1. Crie uma versão de campeonato que usa a função de simulação de partida que você criou anteriormente, e que reduz o $\\lambda$ do time visitante em 20\\%.\n",
        "\n",
        "2. Faça uma simulação de campeonato para uma das ligas:\n",
        "  - German Bundesliga (Campeonato Alemão)\n",
        "  - Barclays Premier League (Campeonato Inglês)\n",
        "  - Spanish Primera Division (Campeonato Espanhol)\n",
        "  - Italy Serie A (Campeonato Italiano)"
      ]
    },
    {
      "cell_type": "markdown",
      "metadata": {
        "id": "cfMz5KYIKo8S"
      },
      "source": [
        "## Probabilidade de ser campeão\n",
        "\n",
        "Agora vamos simular various campeonatos (por exemplo, 10) e a partir dessa simulação ver qual time deve ser o campeão (com a maior probabilidade), de acordo com o nosso modelo. "
      ]
    },
    {
      "cell_type": "code",
      "metadata": {
        "id": "xRBqVen_YO7M",
        "colab": {
          "base_uri": "https://localhost:8080/"
        },
        "outputId": "539977de-0768-4b77-b372-7c79664b6da0"
      },
      "source": [
        "# cria a tabela\n",
        "tabela = pd.DataFrame(index=brasileiro.index,columns=[\"pontos\", \"vitórias\", \"empates\", \"derrotas\", \"gols marcados\", \"gols sofridos\", \"saldo de gols\"])\n",
        "\n",
        "# inicializa os valores com zero\n",
        "tabela.fillna(0,inplace=True)\n",
        "\n",
        "for i in range(0,10): # repetimos simulacao de campeonato 10 vezes, e cada vez atualizamos a tabela:\n",
        "  for timeA in brasileiro.index:   # primeiro laço\n",
        "    for timeB in brasileiro.index: # segundo laço\n",
        "\n",
        "      if timeA != timeB: # o time não joga contra ele mesmo\n",
        "      \n",
        "        # simula uma partida e número de gols nesta partida entre os times TimeA e TimeB (código já visto acima)\n",
        "        lambdaA = brasileiro.loc[timeA,'off'] * brasileiro.loc[timeB,'def'] \n",
        "        lambdaB = brasileiro.loc[timeB,'off'] * brasileiro.loc[timeA,'def'] \n",
        "\n",
        "        golstimeA = np.random.poisson(lambdaA)\n",
        "        golstimeB = np.random.poisson(lambdaB)\n",
        "\n",
        "        # atualiza o número de gols marcados, sofridos e saldo\n",
        "        # abaixo, utilizamos simbolo += para deixar codigo mais legivel. Por exemplo, x += y e equivalemte a x = x+y\n",
        "        # outro exemplo: tabela.loc[timeA,'pontos'] += 3   é equivalente a tabela.loc[timeA,'pontos'] = tabela.loc[timeA,'pontos'] + 3  \n",
        "        tabela.loc[timeA,'gols marcados'] += golstimeA\n",
        "        tabela.loc[timeB,'gols marcados'] += golstimeB\n",
        "\n",
        "        tabela.loc[timeA,'gols sofridos'] += golstimeB\n",
        "        tabela.loc[timeB,'gols sofridos'] += golstimeA\n",
        "\n",
        "        tabela.loc[timeA,'saldo de gols'] += golstimeA - golstimeB\n",
        "        tabela.loc[timeB,'saldo de gols'] += golstimeB - golstimeA\n",
        "\n",
        "        # finalmente, atualizamos os pontos e número de vitórias, empates e derrotas\n",
        "        if golstimeA > golstimeB:   # time A ganhou\n",
        "          tabela.loc[timeA,'pontos'] += 3  \n",
        "          tabela.loc[timeA,'vitórias'] += 1\n",
        "          tabela.loc[timeB,'derrotas'] += 1\n",
        "        elif golstimeA < golstimeB: # time B ganhou\n",
        "          tabela.loc[timeB,'pontos'] += 3  \n",
        "          tabela.loc[timeB,'vitórias'] += 1\n",
        "          tabela.loc[timeA,'derrotas'] += 1\n",
        "        else:                       # os times empataram\n",
        "          tabela.loc[timeA,'pontos'] += 1\n",
        "          tabela.loc[timeB,'pontos'] += 1\n",
        "          tabela.loc[timeA,'empates'] += 1\n",
        "          tabela.loc[timeB,'empates'] += 1  \n",
        "\n",
        "tabela.sort_values(['pontos','vitórias','saldo de gols','gols marcados'],ascending=False, inplace=True)\n",
        "print(tabela)   # imprimimos tabela final ordenada    "
      ],
      "execution_count": null,
      "outputs": [
        {
          "output_type": "stream",
          "name": "stdout",
          "text": [
            "                     pontos  vitórias  ...  gols sofridos  saldo de gols\n",
            "name                                   ...                              \n",
            "Flamengo                748       225  ...            460            384\n",
            "Grêmio                  708       211  ...            418            282\n",
            "Palmeiras               652       186  ...            478            211\n",
            "São Paulo               649       185  ...            421            198\n",
            "Atletico Mineiro        644       182  ...            483            206\n",
            "Internacional           605       168  ...            498            129\n",
            "Atlético Paranaense     563       153  ...            460             57\n",
            "Santos                  556       156  ...            518             43\n",
            "Fluminense              518       141  ...            525              0\n",
            "Ceará                   511       138  ...            568            -32\n",
            "Corinthians             499       138  ...            582            -51\n",
            "Bahía                   496       135  ...            568            -38\n",
            "Fortaleza               494       135  ...            555            -55\n",
            "Bragantino              436       116  ...            649           -132\n",
            "Botafogo                435       113  ...            647           -132\n",
            "Coritiba                412       111  ...            649           -178\n",
            "Atlético Goianiense     401       101  ...            668           -206\n",
            "Sport Recife            397       103  ...            682           -206\n",
            "Vasco da Gama           394       102  ...            629           -188\n",
            "Goiás                   381       100  ...            780           -292\n",
            "\n",
            "[20 rows x 7 columns]\n"
          ]
        }
      ]
    },
    {
      "cell_type": "markdown",
      "metadata": {
        "id": "3pNsH776emoV"
      },
      "source": [
        "Execute algumas vezes o código acima."
      ]
    },
    {
      "cell_type": "markdown",
      "metadata": {
        "id": "hJm2qvCdbFgI"
      },
      "source": [
        "Qual time deve ter o maior número de pontos, de acordo com o nosso modelo?"
      ]
    }
  ]
}