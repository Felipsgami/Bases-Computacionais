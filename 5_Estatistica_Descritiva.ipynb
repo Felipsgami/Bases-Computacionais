{
  "nbformat": 4,
  "nbformat_minor": 0,
  "metadata": {
    "kernelspec": {
      "display_name": "Python 3",
      "language": "python",
      "name": "python3"
    },
    "language_info": {
      "codemirror_mode": {
        "name": "ipython",
        "version": 3
      },
      "file_extension": ".py",
      "mimetype": "text/x-python",
      "name": "python",
      "nbconvert_exporter": "python",
      "pygments_lexer": "ipython3",
      "version": "3.6.5"
    },
    "colab": {
      "name": "5_Estatistica_Descritiva.ipynb",
      "provenance": [],
      "collapsed_sections": []
    }
  },
  "cells": [
    {
      "cell_type": "markdown",
      "metadata": {
        "id": "jN8oak-uBpS-"
      },
      "source": [
        "# Noções básicas de Estatística\n",
        "\n",
        "A Estatística é um ramo da Matemática que tem um papel fundamental nas pesquisas científicas.\n",
        "\n",
        "Vamos ver um exemplo onde a Estatística é utilizada.\n",
        "\n",
        "Este exemplo é de um ramo da Estatística conhecido como **Inferência Estatística**.\n",
        "\n",
        "Suponha que você queira saber a média das alturas dos brasileiros de 18 anos.\n",
        "\n",
        "> O que você faria?\n",
        "\n",
        "Uma maneira direta seria: medir a altura de todos os brasileiros de 18 anos e calcular a média.\n",
        "\n",
        "> O que você acha disso?\n",
        "\n",
        "Apesar desta maneira ser matematicamente correta, ela é totalmente inviável.\n",
        "\n",
        "> Então, o que fazer?\n",
        "\n",
        "Na prática, é possível trabalhar apenas com uma pequena parte da população. Essa pequena parte é chamada de amostra e iremos calcular a média apenas dessa amostra?\n",
        "\n",
        "> Mas como saber se o que valor para a média da amostra é próximo da média da população?\n",
        "\n",
        "Os métodos de Inferência Estatística nos auxiliam a decidir como escolher a amostra para que possamos obter um valor relevante para a média que queremos calcular."
      ]
    },
    {
      "cell_type": "markdown",
      "metadata": {
        "id": "xP0rNm_JBpS_"
      },
      "source": [
        "Outro papel fundamental da Estatística é relacionado à descrição de dados. Isso é feito através de cálculos de funções estatísticas (como média, desvio padrão, etc), por representações gráficas, dentre outros.\n",
        "\n",
        "Nesta unidade, o nosso foco será nessa parte da Estatística."
      ]
    },
    {
      "cell_type": "markdown",
      "metadata": {
        "id": "6_23eOG4noj9"
      },
      "source": [
        "<hr>"
      ]
    },
    {
      "cell_type": "markdown",
      "metadata": {
        "id": "z8i1DtpMz7ln"
      },
      "source": [
        "# Média, mediana, quartis, moda"
      ]
    },
    {
      "cell_type": "markdown",
      "metadata": {
        "id": "DEIDP9EBBpTA"
      },
      "source": [
        "\n",
        "## Média e Mediana\n",
        "\n",
        "Suponha que você fez uma prova e o professor disponibilizou uma planilha com notas. \n",
        "\n",
        "Vamos importar a biblioteca e carregar a planilha:"
      ]
    },
    {
      "cell_type": "code",
      "metadata": {
        "id": "vLtujRyVBpTG"
      },
      "source": [
        "import pandas as pd\n",
        "df = pd.read_csv(\"https://drive.google.com/u/1/uc?id=16Xv85THn5BF1bBDDXLTT8nGxCP321QPv&export=download\")\n",
        "df"
      ],
      "execution_count": null,
      "outputs": []
    },
    {
      "cell_type": "markdown",
      "metadata": {
        "id": "djp83blEBpTP"
      },
      "source": [
        "> Depois de ver a sua nota (claro :-D), o que você calcula para saber como a turma foi como um todo?\n",
        "\n",
        "Em geral, calculamos a média. Então acessamos a coluna de notas e calculamos a média.\n",
        "\n",
        "Para acessar a coluna de notas:"
      ]
    },
    {
      "cell_type": "code",
      "metadata": {
        "id": "xxNGlNUtBpTP"
      },
      "source": [
        "df[\"Nota\"]"
      ],
      "execution_count": null,
      "outputs": []
    },
    {
      "cell_type": "markdown",
      "metadata": {
        "id": "u0U81gIzD-ar"
      },
      "source": [
        "Para calcular a média:"
      ]
    },
    {
      "cell_type": "code",
      "metadata": {
        "id": "T1a6pvm7EBNt"
      },
      "source": [
        "df[\"Nota\"].mean()"
      ],
      "execution_count": null,
      "outputs": []
    },
    {
      "cell_type": "markdown",
      "metadata": {
        "id": "FUN1dsydBpTR"
      },
      "source": [
        "A média é uma **medida de tendência central**. \n",
        "\n",
        "A partir de medidas de tendência central, tentamos descobrir os valores ***típicos*** dos dados.\n",
        "\n",
        "> Mas, no nosso caso, você acha que a média que obtivemos descreve bem a nota  \"típica\"?\n",
        "\n",
        "Vamos ver a planilha ordenada por nota:"
      ]
    },
    {
      "cell_type": "code",
      "metadata": {
        "id": "ge7zH7HyBpTS"
      },
      "source": [
        "df.sort_values(by=\"Nota\")"
      ],
      "execution_count": null,
      "outputs": []
    },
    {
      "cell_type": "markdown",
      "metadata": {
        "id": "z6xgF9KsBpTU"
      },
      "source": [
        "Como você pode ver, temos 7 alunos com nota baixa e 3 alunos com nota muito alta.\n",
        "\n",
        "Então, a média neste caso não descreve bem o que está acontecendo!\n",
        "\n",
        "Uma outra medida de tendência central é a **mediana**:\n",
        "\n",
        "Ela é calculada da seguinte maneira: após ordenarmos os dados\n",
        "\n",
        "- Se a quantidade de dados for ímpar, a mediana é o valor exatamente na posição do meio.\n",
        "\n",
        "- Se a quantidade de dados for par, a mediana é a média dos dois valores mais centrais.\n",
        "\n",
        "\n",
        "Exemplo: \n",
        "- para (3,4,6) , a mediana é 4\n",
        "- para (1,2,3,4), a mediana é (2+3)/2 = 2.5\n",
        "\n",
        "Temos \n",
        "- $50\\%$ dos dados $\\leq$ a mediana\n",
        "- $50\\%$ dos dados $\\geq$ a mediana.\n",
        "\n",
        "Vamos calcular a mediana:"
      ]
    },
    {
      "cell_type": "code",
      "metadata": {
        "id": "w6NlBToJBpTU"
      },
      "source": [
        "df[\"Nota\"].median()"
      ],
      "execution_count": null,
      "outputs": []
    },
    {
      "cell_type": "markdown",
      "metadata": {
        "id": "Z8L1unh5BpTY"
      },
      "source": [
        "A mediana neste caso é muito mais baixa que a média!\n",
        "\n",
        "Então note que a partir da média e da mediana juntas. Podemos deduzir que:\n",
        "\n",
        "* A maioria dos alunos foi mal \n",
        "* Uma minoria dos alunos foi muito bem (a ponto de puxar a média para cima)"
      ]
    },
    {
      "cell_type": "markdown",
      "metadata": {
        "id": "xay0ToLNBpTY"
      },
      "source": [
        "### Exercício\n",
        "\n",
        "Considere a planilha em:\n",
        "\n",
        "https://drive.google.com/u/1/uc?id=182_Z-bL7n9itkupECYhIOEGuIjfQbF0Z&export=download\n",
        "\n",
        "Calcule a média e a mediana da temperatura.\n",
        "\n",
        "Interprete o seu resultado."
      ]
    },
    {
      "cell_type": "code",
      "metadata": {
        "id": "dq82h2yfUMMq"
      },
      "source": [
        "# Sua resposta\n"
      ],
      "execution_count": null,
      "outputs": []
    },
    {
      "cell_type": "markdown",
      "metadata": {
        "id": "yu4cbqckBpTZ"
      },
      "source": [
        "## Percentis (quartis)\n",
        "\n",
        "Uma forma mais detalhada para olhar a distribuição de dados são os **percentis**. \n",
        "\n",
        "Existe mais de uma definição para percentis! Vamos apresentar uma das possibilidades.\n",
        "\n",
        "Considere um conjunto de valores valores $v_1,v_2,\\dotsc,v_{n}$ ordenados do menor para maior e um valor $P$ em $(0,100)$, \n",
        "o $P$-ésimo **percentil** é o valor na posição $P(n+1)/100$. \n",
        "\n",
        "Quando o valor posição não é um valor inteiro, o percentil é calculado a partir das posições inteiras mais próximas.\n",
        "\n",
        "A ideia é calcular uma posição que separe os $P\n",
        "\\%$ menores valores dos maiores \n",
        "\n",
        "Por exemplo, a ideia é que o $25$ᵒ percentil divida os 25% menores valores dos 75% valores maiores.\n",
        "\n",
        "Os 25ᵒ, 50ᵒ e 75ᵒ percentis são chamados de quartis.\n",
        "\n",
        "- O 25ᵒ percentil é chamado de primeiro quartil.\n",
        "- O 50ᵒ percentil é chamado de segundo quartil.\n",
        "- O 75ᵒ percentil é chamado de terceiro quartil.\n",
        "\n",
        "Para calcular os percentis, utilizamos e a função percentile. Veja como ela funciona:\n",
        "\n",
        "25ᵒ Percentil das notas:"
      ]
    },
    {
      "cell_type": "code",
      "metadata": {
        "id": "NT0U_-a0BpTZ"
      },
      "source": [
        "import numpy as np    # precisamos de biblioteca numpy para calcular Percentil\n",
        "df = pd.read_csv(\"https://drive.google.com/u/1/uc?id=16Xv85THn5BF1bBDDXLTT8nGxCP321QPv&export=download\")\n",
        "np.percentile(df[\"Nota\"], q=25)"
      ],
      "execution_count": null,
      "outputs": []
    },
    {
      "cell_type": "markdown",
      "metadata": {
        "id": "bSlz3x9FBpTb"
      },
      "source": [
        "50ᵒ Percentil das notas:"
      ]
    },
    {
      "cell_type": "code",
      "metadata": {
        "id": "A8xfN_6IBpTc"
      },
      "source": [
        "np.percentile(df[\"Nota\"],q=50)"
      ],
      "execution_count": null,
      "outputs": []
    },
    {
      "cell_type": "markdown",
      "metadata": {
        "id": "OZAWdUNnBpTe"
      },
      "source": [
        "75ᵒ Percentil das notas:"
      ]
    },
    {
      "cell_type": "code",
      "metadata": {
        "id": "LIMm5qC-BpTe"
      },
      "source": [
        "np.percentile(df[\"Nota\"],q=75)"
      ],
      "execution_count": null,
      "outputs": []
    },
    {
      "cell_type": "markdown",
      "metadata": {
        "id": "H6t9N06UBpTi"
      },
      "source": [
        "### Exercício\n",
        "\n",
        "Considere a planilha em:\n",
        "\n",
        "https://drive.google.com/u/1/uc?id=182_Z-bL7n9itkupECYhIOEGuIjfQbF0Z&export=download\n",
        "\n",
        "Calcule os percentis: 25ᵒ, 50ᵒ, 75ᵒ."
      ]
    },
    {
      "cell_type": "code",
      "metadata": {
        "id": "RgT7ei3YUHmn"
      },
      "source": [
        "# Sua resposta\n"
      ],
      "execution_count": null,
      "outputs": []
    },
    {
      "cell_type": "markdown",
      "metadata": {
        "id": "5Z6GS8KJBpTj"
      },
      "source": [
        "## Moda"
      ]
    },
    {
      "cell_type": "markdown",
      "metadata": {
        "id": "ZZvlI2YDBpTk"
      },
      "source": [
        "As modas de um conjunto de dados são os valores que aparecem com maior frequência.\n",
        "\n",
        "Ou seja, os valores que estão \"na moda\".\n",
        "\n",
        "Para calcular as modas, usamos a função ``mode()``:"
      ]
    },
    {
      "cell_type": "code",
      "metadata": {
        "id": "UD2z0iL_BpTk"
      },
      "source": [
        "df = pd.read_csv(\"https://drive.google.com/u/1/uc?id=16Xv85THn5BF1bBDDXLTT8nGxCP321QPv&export=download\")\n",
        "df[\"Nota\"].mode()"
      ],
      "execution_count": null,
      "outputs": []
    },
    {
      "cell_type": "markdown",
      "metadata": {
        "id": "KjxF31wCBpTn"
      },
      "source": [
        "Ou seja, as notas que apareceram com maior frequência foram 30 e 90.\n",
        "\n",
        "OBS: Note que existem conjuntos com uma única moda."
      ]
    },
    {
      "cell_type": "markdown",
      "metadata": {
        "id": "Ic_-6X2wBpTn"
      },
      "source": [
        "### Exercício\n",
        "\n",
        "Considere a planilha em:\n",
        "\n",
        "https://drive.google.com/u/1/uc?id=182_Z-bL7n9itkupECYhIOEGuIjfQbF0Z&export=download\n",
        "\n",
        "Calcule as modas."
      ]
    },
    {
      "cell_type": "code",
      "metadata": {
        "id": "q1l-Xe41BpTn"
      },
      "source": [
        "# Sua resposta\n"
      ],
      "execution_count": null,
      "outputs": []
    },
    {
      "cell_type": "markdown",
      "metadata": {
        "id": "BLQx51DUnvaP"
      },
      "source": [
        "<hr>"
      ]
    },
    {
      "cell_type": "markdown",
      "metadata": {
        "id": "r7mwwy_gBpTq"
      },
      "source": [
        "# Medidas de dispersão\n",
        "\n",
        "Em contraste com as medidas que vimos até agora, as medidas de dispersão procuram saber o quão \"espalhados\" estão os dados e quais são os valores extremos.\n",
        "\n",
        "> Se você parar para pensar em medidas muito simples para valores extremos, quais seriam elas?\n",
        "\n",
        "Provavelmente você pensaria no mínimo e máximo."
      ]
    },
    {
      "cell_type": "code",
      "metadata": {
        "id": "iYx_OKtcBpTq"
      },
      "source": [
        "df = pd.read_csv(\"https://drive.google.com/u/1/uc?id=16Xv85THn5BF1bBDDXLTT8nGxCP321QPv&export=download\")\n",
        "df[\"Nota\"].min()"
      ],
      "execution_count": null,
      "outputs": []
    },
    {
      "cell_type": "code",
      "metadata": {
        "id": "tk1TlGTIWNV5"
      },
      "source": [
        "df[\"Nota\"].max()"
      ],
      "execution_count": null,
      "outputs": []
    },
    {
      "cell_type": "markdown",
      "metadata": {
        "id": "JuY8PoexWQyN"
      },
      "source": [
        "A diferença entre o maior valor e o menor valor é chamada de **amplitude**:"
      ]
    },
    {
      "cell_type": "code",
      "metadata": {
        "id": "1m8GRxltWXwP"
      },
      "source": [
        "df[\"Nota\"].max()-df[\"Nota\"].min()"
      ],
      "execution_count": null,
      "outputs": []
    },
    {
      "cell_type": "markdown",
      "metadata": {
        "id": "i08aI0WdWiPu"
      },
      "source": [
        "Uma medida de dispersão que usamos com frequência é a **variância**.\n",
        "\n",
        "A variância busca medir a distância dos pontos em relação à média. \n",
        "\n",
        "Para uma ideia intuitiva: quanto maior é a variância, mais espalhados estão nossos dados.\n",
        "\n",
        "Por exemplo, se todos os valores são iguais, a variância é 0.\n"
      ]
    },
    {
      "cell_type": "code",
      "metadata": {
        "id": "pxVbKL0GBpTt"
      },
      "source": [
        "df[\"Nota\"].var()"
      ],
      "execution_count": null,
      "outputs": []
    },
    {
      "cell_type": "markdown",
      "metadata": {
        "id": "-Nmb8cz6XMX8"
      },
      "source": [
        "A definição de variância calcula as distâncias **ao quadrado** utilizando em relação à média.\n",
        "\n",
        "Por isso, também olhamos com frequência o valor do **desvio padrão** que é simplesmente a raiz quadrada da variância."
      ]
    },
    {
      "cell_type": "code",
      "metadata": {
        "id": "xHG3JgszYu_T"
      },
      "source": [
        "df[\"Nota\"].std()"
      ],
      "execution_count": null,
      "outputs": []
    },
    {
      "cell_type": "markdown",
      "metadata": {
        "id": "CImBnBBxEFgx"
      },
      "source": [
        "O que você pode deduzir sobre as notas a partir do valor desvio padrão obtido; as notas são homogêneas?"
      ]
    },
    {
      "cell_type": "markdown",
      "metadata": {
        "id": "m6XuFjTiXgcW"
      },
      "source": [
        "### Exercício\n",
        "Considere a planilha em:\n",
        "\n",
        "https://drive.google.com/u/1/uc?id=182_Z-bL7n9itkupECYhIOEGuIjfQbF0Z&export=download\n",
        "\n",
        "Calcule para a temperatura as seguintes medidas:\n",
        "- mínimo\n",
        "- máximo\n",
        "- amplitude\n",
        "- variância \n",
        "- desvio padrão"
      ]
    },
    {
      "cell_type": "code",
      "metadata": {
        "id": "vzyp4cB3XueH"
      },
      "source": [
        "# Sua resposta\n"
      ],
      "execution_count": null,
      "outputs": []
    },
    {
      "cell_type": "markdown",
      "metadata": {
        "id": "Znt24NpjXuDc"
      },
      "source": [
        "Como as medidas que apresentamos são usadas muito frequentemente, existe uma função que as agrega:"
      ]
    },
    {
      "cell_type": "code",
      "metadata": {
        "id": "kawlcdLBBpTv"
      },
      "source": [
        "df = pd.read_csv(\"https://drive.google.com/u/1/uc?id=16Xv85THn5BF1bBDDXLTT8nGxCP321QPv&export=download\")\n",
        "df[\"Nota\"].describe()"
      ],
      "execution_count": null,
      "outputs": []
    },
    {
      "cell_type": "markdown",
      "metadata": {
        "id": "s6XyYZT4nyE7"
      },
      "source": [
        "<hr>"
      ]
    },
    {
      "cell_type": "markdown",
      "metadata": {
        "id": "Cveu6jEoBpTx"
      },
      "source": [
        "# Operações nas planilhas\n",
        "\n",
        "É muito comum que tenhamos que adicionar colunas a uma planilha para fazer os cálculos que desejamos.\n",
        "\n",
        "Suponha que queiramos criar uma nova coluna com nome \"Calcula\" e que, para cada aluno, o seu valor seja\n",
        "\n",
        "$$(-1)^{\\text{identificação do aluno}}\\cdot (\\text{nota do aluno})$$\n",
        "\n",
        "Note que a nova coluna é automaticamente adicionada:"
      ]
    },
    {
      "cell_type": "code",
      "metadata": {
        "id": "cKhl2HpJBpTz"
      },
      "source": [
        "df = pd.read_csv(\"https://drive.google.com/u/1/uc?id=16Xv85THn5BF1bBDDXLTT8nGxCP321QPv&export=download\")\n",
        "df[\"Calcula\"] = (-1)**df[\"Aluno\"]*df[\"Nota\"]\n",
        "df"
      ],
      "execution_count": null,
      "outputs": []
    },
    {
      "cell_type": "markdown",
      "metadata": {
        "id": "3ZnC8JA1ZcLP"
      },
      "source": [
        "### Exercício\n",
        "\n",
        "Considere a planilha em:\n",
        "\n",
        "https://drive.google.com/u/1/uc?id=182_Z-bL7n9itkupECYhIOEGuIjfQbF0Z&export=download\n",
        "\n",
        "Crie uma nova coluna com o nome \"razão\" para qual o valor para cada período é a temperatura dividida pelo período.\n",
        "\n",
        "Calcule sua média."
      ]
    },
    {
      "cell_type": "code",
      "metadata": {
        "id": "I9GNwQeNaDEH"
      },
      "source": [
        "# Sua resposta\n"
      ],
      "execution_count": null,
      "outputs": []
    },
    {
      "cell_type": "markdown",
      "metadata": {
        "id": "I3R1GC9Xnz9m"
      },
      "source": [
        "<hr>"
      ]
    },
    {
      "cell_type": "markdown",
      "metadata": {
        "id": "p5TRv5DFBpT1"
      },
      "source": [
        "# Gráficos"
      ]
    },
    {
      "cell_type": "markdown",
      "metadata": {
        "id": "0cPwo9CLac5i"
      },
      "source": [
        "Criar gráficos para representar os nossos dados, pode ser muito útil para rapidamente obter informações.\n",
        "\n",
        "Um gráfico muito simples é o **histograma** que divide os dados em categorias e apresenta quantos valores estão em cada categoria:"
      ]
    },
    {
      "cell_type": "code",
      "metadata": {
        "id": "8bvS5Quta5w6"
      },
      "source": [
        "df = pd.read_csv(\"https://drive.google.com/u/1/uc?id=16Xv85THn5BF1bBDDXLTT8nGxCP321QPv&export=download\")\n",
        "df.hist(column=\"Nota\")"
      ],
      "execution_count": null,
      "outputs": []
    },
    {
      "cell_type": "markdown",
      "metadata": {
        "id": "nAKimMVebT3G"
      },
      "source": [
        "\n",
        "Note como a partir dos histogramas, conseguimos rapidamente visualizar a performance dos alunos.\n",
        "\n",
        "Por padrão são criadas 10 categorias.\n",
        "\n",
        "No nosso caso, as categorias dividem os valores de 20 (menor nota) a 100 (maior nota) e cada categoria é formada por 8 notas. \n",
        "\n",
        "Por exemplo, a primeira categoria são as notas de 20 a 28. A segunda até 36 (e assim por diante).\n",
        "\n",
        "Podemos especificar o número de categorias. Veja um exemplo com apenas 2 categorias:"
      ]
    },
    {
      "cell_type": "code",
      "metadata": {
        "id": "Lzbh1v7xc09Z"
      },
      "source": [
        "df.hist(column=\"Nota\", bins=2)"
      ],
      "execution_count": null,
      "outputs": []
    },
    {
      "cell_type": "markdown",
      "metadata": {
        "id": "ayoLpevTfE1r"
      },
      "source": [
        "Outro tipo de gráfico muito usado em Estatística é o box plot."
      ]
    },
    {
      "cell_type": "code",
      "metadata": {
        "id": "lK5B9s-mBpT1"
      },
      "source": [
        "df.boxplot(column=\"Nota\")"
      ],
      "execution_count": null,
      "outputs": []
    },
    {
      "cell_type": "markdown",
      "metadata": {
        "id": "FEna3hnGfWrt"
      },
      "source": [
        "O box plot apresenta várias informações úteis:\n",
        "- A linha verde dentro da caixa é a mediana\n",
        "- A linha inferior da caixa é o primeiro quartil (Q1), ou seja, o 25 percentil.\n",
        "- A linha superior da caixa é o terceiro quartil (Q3), ou seja, o 75 percentil.\n",
        "- o traço inferior em preto é o menor valor nos dados que fica acima de $Q1-1.5 IQR$, onde $IQR = Q3-Q1$.\n",
        "- o traço superior em preto é o maior valor nos dados fica abaixo de \n",
        "$Q3+1.5 IQR$\n",
        "\n",
        "O valor IQR é chamado de **amplitude interquartil**. \n",
        "\n",
        "Pontos abaixo do traço inferior ou acima do traço superior são chamados de **discrepantes**.\n",
        "\n",
        "No nosso caso, não havia pontos discrepantes. Quando eles existem, são representados por círculos.\n",
        "\n",
        "Veja um exemplo:\n",
        "\n"
      ]
    },
    {
      "cell_type": "code",
      "metadata": {
        "id": "csSir9y1hmoM"
      },
      "source": [
        "df = pd.read_csv(\"https://drive.google.com/u/1/uc?id=10yl6WEW0-PZKWYpkzGswvP3p105n831w&export=download\")\n",
        "df.boxplot(column=\"valores\")"
      ],
      "execution_count": null,
      "outputs": []
    },
    {
      "cell_type": "markdown",
      "metadata": {
        "id": "kgnAvH0qbkE_"
      },
      "source": [
        "### Exercício\n",
        "\n",
        "Considere a planilha em:\n",
        "\n",
        "https://drive.google.com/u/1/uc?id=182_Z-bL7n9itkupECYhIOEGuIjfQbF0Z&export=download\n",
        "\n",
        "Crie para a temperatura:\n",
        "- um histograma com $3$ categorias \n",
        "- o boxplot\n"
      ]
    },
    {
      "cell_type": "code",
      "metadata": {
        "id": "u_rGaG5KbyUb"
      },
      "source": [
        "# Sua resposta\n"
      ],
      "execution_count": null,
      "outputs": []
    }
  ]
}