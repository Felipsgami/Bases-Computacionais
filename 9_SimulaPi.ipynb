{
  "nbformat": 4,
  "nbformat_minor": 0,
  "metadata": {
    "colab": {
      "name": "SimulaPi.ipynb",
      "provenance": [],
      "toc_visible": true
    },
    "kernelspec": {
      "name": "python3",
      "display_name": "Python 3"
    }
  },
  "cells": [
    {
      "cell_type": "markdown",
      "metadata": {
        "id": "IXMo2O8YCv8J"
      },
      "source": [
        "# Simulação de Monte Carlo \n",
        "\n",
        "> (* baseano no livro de bases computacionais da ciência, seção 8.5.1)\n",
        "\n",
        "No  colégio,  todos  aprendemos  a  usar  a  constante  $\\pi$  em  Geometria  para  calcular  a  área  de  figuras  geométricas,  por  exemplo.  Aprendemos,  também,  que  o  valor  da  constante é de 3,1415926535... Nesta prática, nosso objetivo é utilizar um modelo matemático simples para aproximar o valor de $\\pi$, utilizando um método clássico de simulação computacional.\n",
        "\n",
        "Há diversos métodos que nos permitem aproximar o aproximar de $\\pi$ de maneira relativamente simples.  Um  destes  métodos  é  o  método  de  Monte  Carlo,  que  se  baseia  nas  propriedades dos números aleatórios . Como o projeto era secreto, os nomes dos estudos não podiam ser alusivos à bomba. Como a ideia por tráz do método de Monte Carlo é que uma simulação é repetida um grande número de vezes, para calcular probabilidades heuristicamente, tal como se, de fato, se registrassem os resultados reais em jogos de cassino, Monte Carlo foi o nome dado em homenagem ao bairro do principado de Mônaco, famoso pelos cassinos.\n",
        "\n",
        "O  método  de  Monte  Carlo  usa  números  aleatórios  para  calcular  propriedades  de  interesse.  Uma  distribuição  de  números  aleatórios  pode  ser  definida,  de  maneira  simples, como um conjunto de números no qual nenhum número tem maior chance de aparecer do que outro. Por incrível que pareça, é algo bem difícil sortear números aleatórios  (mesmo  com  um  computador!).  Alguns  pesquisadores  já  notaram,  por  exemplo, que, se pedirmos a um conjunto de pessoas que digam um número qualquer de maneira “aleatória”, os números que obteremos dificilmente passarão num teste estatístico  que  comprove  que  o  conjunto  realmente  trata-se  de  um  conjunto  de  números aleatórios. Contudo, existem rotinas computacionais bastante eficientes e já estabelecidas para gerar sequências de números aleatórios.\n",
        "\n",
        "As aplicações do método de Monte Carlo são vastas. Alguns exemplos incluem:\n",
        "\n",
        "- Ciências físicas: simulações de difusão de calor, simulações de dinâmica molecular, problemas de muitos corpos (many-body) em sistemas quânticos, etc.; \n",
        "- Engenharia: Engenharia microeletrônica (análise de variações correlacionadas e não-correlacionadas em circuitos digitais e analógicos), localização de robôs autônomos, etc.; \n",
        "- Biologia  Computacional:  Dinâmica  de  proteínas  e  membranas,  inferências  baesianas na construção de árvores filogenéticas, etc.; \n",
        "- Matemática: Métodos de integração, otimização, etc\n"
      ]
    },
    {
      "cell_type": "markdown",
      "metadata": {
        "id": "kbWIZOERF-W2"
      },
      "source": [
        "## Simulando o valor de $\\pi$\n",
        "\n",
        "Para  compreender  o  uso  do  método  de  Monte  Carlo no cálculo de $\\pi$,  vamos  primeiro  desenvolver  algumas relações geométricas que nos levarão a uma equação para o valor da constante $\\pi$. Sabemos que a área de uma circunferência de raio $r$ é dada pela Equação \n",
        "\n",
        "$$A_{circ} = \\pi r^2$$\n",
        "\n",
        "Sabemos, ainda, que a área de um quadrado de lado $l$ é dada pela \n",
        "\n",
        "$$A_{quad} = l^2$$\n",
        "\n",
        "Agora, considere uma situação na qual temos um quadrado com uma circunferência inscrita no quadrado, como mostrado na Figura:\n",
        "\n",
        "<img src=\"https://blog.professorferretto.com.br/wp-content/uploads/2019/08/raio-da-circunferencia-inscrita-no-quadrado.png\" width=\"300\" height=\"300\">\n",
        "\n",
        "A circunferência tem um raio $r$, e portanto  um diâmetro de $2r$. Alé disso, como a circunferência está inscrita no quadrado, temos que o lado é igual ao diâmetro do círculo, ou seja $l = 2r$. Dessa maneira, podemos reescrever a área do quadrado em função de $r$:\n",
        "\n",
        "$$A_{quad} = l^2 = (2r)^2 = 4r^2$$\n",
        "\n",
        "Neste ponto, se calcularmos a razão entre a área da circunferência e a área do quadrado, teremos a Equação \n",
        "\n",
        "$$\\frac{A_{circ}}{A_{quad}} = \\frac{\\pi r^2}{4r^2}$$\n",
        "\n",
        "Rearranjando os termos e isolando $\\pi$ do lado esquerdo da equação teremos, finalmente, a Equação \n",
        "\n",
        "$$ \\pi = 4\\frac{A_{circ}}{A_{quad}} $$\n",
        "\n",
        "que usaremos para calcular o aproximar o valor de $\\pi$. Essa equação nos mostra que é possível saber precisamente o valor de $\\pi$, bastando para isso calcular a razão entre a área da circunferência e a área do quadrado, e multi-plicar esta razão por 4. Contudo, para sabermos a área da circunferência, precisamos saber o valor da constante $\\pi$. Como resolver, então, este círculo vicioso? \n",
        "\n",
        "Uma possível solução do problema está no método de Monte  Carlo, que  tem como fundamento o uso de números aleatórios para a estimativa de parâmetros de interesse. A ideia consiste em aproximar a razão $\\frac{A_{circ}}{A_{quad}}$ simulando pontos aleatórios dentro do quadrado, como mostrado na figura a seguir\n",
        "\n",
        "<img src=\"https://www.researchgate.net/profile/Yiqun_Chen19/publication/341965356/figure/fig2/AS:899322442964993@1591426587361/Visualization-of-the-Monte-Carlo-approximation-of-Pi-p-i-i-i-i-ii-i-ii.ppm\">\n",
        "\n",
        "Se os pontos forem aleatóriamente sorteados dentro do quadrado, temos que:\n",
        "\n",
        "$$ \\frac{N_{circ}}{N_{quad}} \\approx \\frac{A_{circ}}{A_{quad}}$$\n",
        "\n",
        "em que $N_{circ}$ e $N_{quad}$ correpondem ao número de pontos que estão dentro do círculo e o número total de pontos dentro do quadrado (dentro e fora do círculo). Dessa maneira, podemos aproximar o valor de $\\pi$ por:\n",
        "\n",
        "$$ \\pi \\approx 4\\frac{N_{circ}}{N_{quad}} $$\n",
        "\n",
        "Para tornar os cálculos mais simples, vamos assumir que o quadrado tenha um lado de tamanho $l=2r=1$. Logo, teremos que o raio da circunferência será $r=\\frac{1}{2}$. Desta maneira, podemos imaginar a base do quadrado como um eixo $x$ (abscissa) de um sistema de coordenadas cartesianas e a altura do quadrado como um eixo $y$. Utilizando o computador, nós sortearemos agora alguns pares de números aleatórios no intervalo [0,1]. Cada par de números representará as coordenadas $x$ e $y$ de um ponto que pertence à área do quadrado. \n",
        "\n",
        "Vamos iniciar sorteando um par:\n",
        "\n",
        "\n"
      ]
    },
    {
      "cell_type": "code",
      "metadata": {
        "id": "4p_peorvQAmg"
      },
      "source": [
        "import random\n",
        "\n",
        "x = random.random()\n",
        "y = random.random()"
      ],
      "execution_count": null,
      "outputs": []
    },
    {
      "cell_type": "markdown",
      "metadata": {
        "id": "PFyFBh4zW9Mn"
      },
      "source": [
        "Agora como sabemos se o ponto sorteado está ou não dentro do círculo? Como o circunferência está circuscrita no quarado, e estamos usando um quadrado de lado $l=1$, o centro da circunferência é o ponto $(0.5,0.5)$. Como o raio marca o limite da circunferênca, o ponto está dentro da circunferência se a distância entre o ponto sorteado e o centro for menor que o raio da circunferência. Podemos usar a função `distancia_euclideana`  para calcular essa distância:"
      ]
    },
    {
      "cell_type": "code",
      "metadata": {
        "id": "0wRvxJ4_YWg6"
      },
      "source": [
        "import random\n",
        "import math\n",
        "\n",
        "def distancia_euclideana(x1, y1, x2, y2):\n",
        "    dx = x2 - x1\n",
        "    dy = y2 - y1\n",
        "    dquadrado = dx**2 + dy**2\n",
        "    distancia = math.sqrt(dquadrado)\n",
        "    return distancia\n",
        "\n",
        "      \n",
        "x = random.random()\n",
        "y = random.random()\n",
        "print(x,y)\n",
        "\n",
        "d = distancia_euclideana(0.5,0.5,x,y)\n",
        "\n",
        "if d < 0.5:\n",
        "    print(\"Ponto dentro do circunferência\")"
      ],
      "execution_count": null,
      "outputs": []
    },
    {
      "cell_type": "markdown",
      "metadata": {
        "id": "Yza-R3tcdR8Z"
      },
      "source": [
        "Agora podemos usar um laço para repetir o processo várias vezes. Além disso, precisamos contar quantos pontos estão dentro do círculo (e não apenas imprimir a mensagem). Para isso, vamos criar uma variável `Ncirc`, que incrementamos em 1 toda vez que o ponto sorteado está dentro do circulo:"
      ]
    },
    {
      "cell_type": "code",
      "metadata": {
        "id": "FNeAxITSdism"
      },
      "source": [
        "import random\n",
        "import math\n",
        "\n",
        "def distancia_euclideana(x1, y1, x2, y2):\n",
        "    dx = x2 - x1\n",
        "    dy = y2 - y1\n",
        "    dquadrado = dx**2 + dy**2\n",
        "    distancia = math.sqrt(dquadrado)\n",
        "    return distancia\n",
        "\n",
        "Ncirc = 0\n",
        "Nquad = 100\n",
        "\n",
        "for i in range(Nquad):\n",
        "    x = random.random()\n",
        "    y = random.random()\n",
        "\n",
        "    d = distancia_euclideana(0.5,0.5,x,y)\n",
        "\n",
        "    if d < 0.5:\n",
        "        Ncirc = Ncirc + 1\n",
        "\n",
        "# valor de pi estimato\n",
        "pi = 4 * Ncirc/Nquad\n",
        "\n",
        "# erro absoluto com relação ao valor de math.pi\n",
        "erro = abs(math.pi - pi)\n",
        "print(\"O valor estimado de pi com\",Nquad,\"números sorteados é\",\"%.5f\"%pi,\"e o erro é\",\"%.5f\"%erro)"
      ],
      "execution_count": null,
      "outputs": []
    },
    {
      "cell_type": "markdown",
      "metadata": {
        "id": "XETfIZhLrYds"
      },
      "source": [
        "## Repetindo as simulações\n",
        "\n",
        "Como os pontos sorteados são aleatórios, diferentes execuções geram resultados diferentes para o valor de $\\pi$. Vamos realizar 10 repetições dessa simulação usando um outro laço:"
      ]
    },
    {
      "cell_type": "code",
      "metadata": {
        "id": "2MEGbMoPr0U-"
      },
      "source": [
        "import random\n",
        "import math\n",
        "\n",
        "def distancia_euclideana(x1, y1, x2, y2):\n",
        "    dx = x2 - x1\n",
        "    dy = y2 - y1\n",
        "    dquadrado = dx**2 + dy**2\n",
        "    distancia = math.sqrt(dquadrado)\n",
        "    return distancia\n",
        "\n",
        "tot_sim = 10\n",
        "for s in range(tot_sim):\n",
        "    Ncirc = 0\n",
        "    Nquad = 100\n",
        "    for i in range(Nquad):\n",
        "        x = random.random()\n",
        "        y = random.random()\n",
        "\n",
        "        d = distancia_euclideana(0.5,0.5,x,y)\n",
        "\n",
        "        if d < 0.5:\n",
        "            Ncirc = Ncirc + 1\n",
        "\n",
        "    # valor de pi estimato\n",
        "    pi = 4 * Ncirc/Nquad\n",
        "\n",
        "    # erro absoluto com relação ao valor de math.pi\n",
        "    erro = abs(math.pi - pi)\n",
        "\n",
        "    print(\"O valor estimado de pi na simulação\",(s+1),\"com\",Nquad,\"números sorteados é\",\"%.5f\"%pi,\"e o erro é\",\"%.5f\"%erro)"
      ],
      "execution_count": null,
      "outputs": []
    },
    {
      "cell_type": "markdown",
      "metadata": {
        "id": "Abo0qDsis-EX"
      },
      "source": [
        "Vamos salvar o resultado das simulações em um arquivo para analisarmos depois. Para isso, vamos usar a blibliotecs `csv`, que nos permite salvar um arquivo para ser lido posteriormente com o `pandas`. Escrever em um arquivo é similar a usar o comando `print`. A diferença é que precisamos inicialmente abrir o arquivo, gravar as informações nele, e depois fechar o arquivo ao final."
      ]
    },
    {
      "cell_type": "code",
      "metadata": {
        "id": "xjedLszwtSBx"
      },
      "source": [
        "import random\n",
        "import math\n",
        "import csv\n",
        "\n",
        "def distancia_euclideana(x1, y1, x2, y2):\n",
        "    dx = x2 - x1\n",
        "    dy = y2 - y1\n",
        "    dquadrado = dx**2 + dy**2\n",
        "    distancia = math.sqrt(dquadrado)\n",
        "    return distancia\n",
        "\n",
        "tot_sim = 10\n",
        "\n",
        "# criar e \"abre\" o aquivo para gravação\n",
        "arquivo = open(\"simulacao1.csv\",'w') \n",
        "\n",
        "# para formatar automaticamente o conteúdo como um csv\n",
        "arquivocsv = csv.writer(arquivo, delimiter=',')\n",
        "\n",
        "# cabeçalho\n",
        "arquivocsv.writerow([\"Simulação\",\"Nquad\",\"Ncirc\",\"Pi\",\"Erro\"])\n",
        "\n",
        "for s in range(tot_sim):\n",
        "    Ncirc = 0\n",
        "    Nquad = 100\n",
        "    for i in range(Nquad):\n",
        "        x = random.random()\n",
        "        y = random.random()\n",
        "\n",
        "        d = distancia_euclideana(0.5,0.5,x,y)\n",
        "\n",
        "        if d < 0.5:\n",
        "            Ncirc = Ncirc + 1\n",
        "\n",
        "    # valor de pi estimato\n",
        "    pi = 4 * Ncirc/Nquad\n",
        "\n",
        "    # erro com relação ao valor de math.pi\n",
        "    erro = abs(math.pi - pi)\n",
        "\n",
        "    # escreve uma linha da simulação no arquivo\n",
        "    arquivocsv.writerow([s+1,Nquad,Ncirc,pi,erro])\n",
        "\n",
        "# fecha o arquivo\n",
        "arquivo.close()"
      ],
      "execution_count": null,
      "outputs": []
    },
    {
      "cell_type": "markdown",
      "metadata": {
        "id": "RPU3DDZqv_yn"
      },
      "source": [
        "Agora podemos usar o `pandas` para ler o aquivo criado:"
      ]
    },
    {
      "cell_type": "code",
      "metadata": {
        "id": "v7lkdHoCwEol"
      },
      "source": [
        "import pandas as pd\n",
        "\n",
        "df = pd.read_csv(\"simulacao1.csv\")\n",
        "df.head()"
      ],
      "execution_count": null,
      "outputs": []
    },
    {
      "cell_type": "markdown",
      "metadata": {
        "id": "02ivPAiaw_kp"
      },
      "source": [
        "e calcular a média das simulações e desvio padrão das simulalções, bem como algumas estatísticas descritivas do erro absoluto:"
      ]
    },
    {
      "cell_type": "code",
      "metadata": {
        "id": "36O_yiYoxE6V"
      },
      "source": [
        "print(\"Média de pi das simulações\",df['Pi'].mean())\n",
        "print(\"Desvio padrão das simulações\",df['Pi'].std())\n",
        "print(\"Desvio padrão do erro absoluto das simulações\",df['Erro'].std())\n",
        "print(\"Máximo do erro absoluto das simulações\",df['Erro'].max())\n",
        "print(\"Mínimo do erro absoluto das simulações\",df['Erro'].min())\n"
      ],
      "execution_count": null,
      "outputs": []
    },
    {
      "cell_type": "code",
      "metadata": {
        "id": "trfSj3_0xzWp"
      },
      "source": [
        "import matplotlib.pyplot as plt\n",
        "\n",
        "plt.plot(df['Simulação'],df['Pi'],'o')\n",
        "plt.axhline(y=math.pi, color='r', linestyle='-',label='Math.pi')\n",
        "plt.axhline(y=df['Pi'].mean(), color='b', linestyle='-.',label='Média Simulações')\n",
        "plt.xlabel(\"Simulações\")\n",
        "plt.legend()\n",
        "plt.show()"
      ],
      "execution_count": null,
      "outputs": []
    },
    {
      "cell_type": "markdown",
      "metadata": {
        "id": "zitqWdoJ2FiX"
      },
      "source": [
        "## Exercícios\n",
        "\n",
        "1. Faça uma simulação com 50 repetições com 100 pontos sorteados a cada simulação. Salve o resultado em um arquivo chamadado \"simulacao_50_100\".\n",
        "1. Faça uma simulação com 10 repetições com 500 pontos sorteados a cada simulação. Salve o resultado em um arquivo chamadado \"simulacao_10_500\".\n",
        "1. Compare as estatísticas e os gráficos de cada simulação. O que você pode concluir ao respeito?\n"
      ]
    },
    {
      "cell_type": "markdown",
      "metadata": {
        "id": "ahn7Tfn6eguy"
      },
      "source": [
        "# Variando o número de pontos\n",
        "\n",
        "\n",
        "Vamos agora fazer a simulação com diferentes valores de `Nquad`. Para isso, vamos adicionar mais um laço que percorre uma lista `Ns` com diferentes quantatidades de pontos a serem sorteados no quadrado. Vamos executar também um totoal de 100, e armazenar em uma arquivo chamado `simualacao2.csv`. "
      ]
    },
    {
      "cell_type": "code",
      "metadata": {
        "id": "Sa38qtZkemxP"
      },
      "source": [
        "import random\n",
        "import math\n",
        "\n",
        "def distancia_euclideana(x1, y1, x2, y2):\n",
        "    dx = x2 - x1\n",
        "    dy = y2 - y1\n",
        "    dquadrado = dx**2 + dy**2\n",
        "    distancia = math.sqrt(dquadrado)\n",
        "    return distancia\n",
        "\n",
        "\n",
        "# criar e \"abre\" o aquivo para gravação\n",
        "arquivo = open(\"simulacao2.csv\",'w') \n",
        "\n",
        "# para formatar automaticamente o conteúdo como um csv\n",
        "arquivocsv = csv.writer(arquivo, delimiter=',')\n",
        "\n",
        "# cabeçalho\n",
        "arquivocsv.writerow([\"Simulação\",\"Nquad\",\"Ncirc\",\"Pi\",\"Erro\"])\n",
        "\n",
        "\n",
        "Ns = [100,500,1000,5000,10000,50000,100000]\n",
        "tot_sim=100\n",
        "\n",
        "for Nquad in Ns:\n",
        "    for s in range(tot_sim):\n",
        "        Ncirc = 0\n",
        "\n",
        "        for i in range(Nquad):\n",
        "            x = random.random()\n",
        "            y = random.random()\n",
        "\n",
        "            d = distancia_euclideana(0.5,0.5,x,y)\n",
        "\n",
        "            if d < 0.5:\n",
        "                Ncirc = Ncirc + 1\n",
        "\n",
        "        # valor de pi estimato\n",
        "        pi = 4 * Ncirc/Nquad\n",
        "\n",
        "        # erro absoluto com relação ao valor de math.pi\n",
        "        erro = abs(math.pi - pi)\n",
        "\n",
        "        # escreve uma linha da simulação no arquivo\n",
        "        arquivocsv.writerow([s,Nquad,Ncirc,pi,erro])\n",
        "\n",
        "arquivo.close()"
      ],
      "execution_count": null,
      "outputs": []
    },
    {
      "cell_type": "markdown",
      "metadata": {
        "id": "qjcpw3u3Fl4d"
      },
      "source": [
        "Agora vamos carregar o arquivo de simualação, e analisar as variações:"
      ]
    },
    {
      "cell_type": "code",
      "metadata": {
        "id": "Wnd_IOTylEZa"
      },
      "source": [
        "import pandas as pd\n",
        "\n",
        "df = pd.read_csv('simulacao2.csv')\n",
        "df.sample(10)"
      ],
      "execution_count": null,
      "outputs": []
    },
    {
      "cell_type": "markdown",
      "metadata": {
        "id": "F1Pqcb2fF0Ce"
      },
      "source": [
        "Agora vamos fazer um gráfico de caixa (box plot), agrupando pelo número de pontos no quadrado (`Nquad`). Obvserve que, em geral, a mediana (linha central do gráfico de caixa) é bem próxima do valor de $\\pi$ da biblioteca `math`. Observe também que, a medida que o número de pontos sorteados dentro do quadrado aumenta, a variação em torno do valor de $\\pi$ diminui:"
      ]
    },
    {
      "cell_type": "code",
      "metadata": {
        "id": "1_fglgSd9m6G"
      },
      "source": [
        "df.boxplot('Pi',by='Nquad')\n",
        "plt.axhline(y=math.pi, color='r', linestyle='-',label='Math.pi')\n",
        "plt.legend()"
      ],
      "execution_count": null,
      "outputs": []
    },
    {
      "cell_type": "markdown",
      "metadata": {
        "id": "Xy1VJXg2KUXH"
      },
      "source": [
        "Podemos observar esse padrão também calculando as estatíticas descritivas do valor aproximado de $\\pi$, agrupado pelo número de pontos dentro do quadrado (`Nquad`)"
      ]
    },
    {
      "cell_type": "code",
      "metadata": {
        "id": "Ip2NccDH503H"
      },
      "source": [
        "estatistica = df.groupby('Nquad')['Pi'].describe()\n",
        "estatistica"
      ],
      "execution_count": null,
      "outputs": []
    },
    {
      "cell_type": "markdown",
      "metadata": {
        "id": "yksHnmD9TmO5"
      },
      "source": [
        "e no gráfico dos valores médio, mínimo e máxi de `Pi`, agrupados por `Nquad` "
      ]
    },
    {
      "cell_type": "code",
      "metadata": {
        "id": "yqEObsK9LFON"
      },
      "source": [
        "estatistica['mean'].plot(label='Média')\n",
        "estatistica['max'].plot(label='Máximo')\n",
        "estatistica['min'].plot(label='Máximo')\n",
        "plt.legend()"
      ],
      "execution_count": null,
      "outputs": []
    },
    {
      "cell_type": "markdown",
      "metadata": {
        "id": "Juk4nna5OV-9"
      },
      "source": [
        "Podemos calcular a correlação entre o valor mínimo (`estatistica['min']`) é máximo (`estatistica['max']`)dessa tabela estatística:"
      ]
    },
    {
      "cell_type": "code",
      "metadata": {
        "id": "8mCntruhOit6"
      },
      "source": [
        "print(estatistica['max'].corr(estatistica['min']))"
      ],
      "execution_count": null,
      "outputs": []
    },
    {
      "cell_type": "markdown",
      "metadata": {
        "id": "Inz9lZZpOryD"
      },
      "source": [
        "Você consegue interpretar esse resultado? O que isso quer dizer?\n",
        "\n",
        "E se calcularmos a correlação do mínimo e máximo com a média (`estatistica['mean']`):"
      ]
    },
    {
      "cell_type": "code",
      "metadata": {
        "id": "Ws3hm8X4Oxwn"
      },
      "source": [
        "print(estatistica['mean'].corr(estatistica['min']))\n",
        "print(estatistica['mean'].corr(estatistica['max']))"
      ],
      "execution_count": null,
      "outputs": []
    },
    {
      "cell_type": "markdown",
      "metadata": {
        "id": "E-IPnFAdQyDK"
      },
      "source": [
        "E a correlação do número de pontos dentro do quadrado  e a o desvio padrão (`estatistics['std']`):\n",
        "\n",
        "Como agrupamos por `Nquad`, essa coluna é o índice da tabela. Portanto, podemos acessá-la por `estatistica.index`. Para poder calcular a correlação, primeiro copiamos `estatistica.index` para uma coluna chama `Nquad`, e depois calculamos a correlação:"
      ]
    },
    {
      "cell_type": "code",
      "metadata": {
        "id": "nKF7JoIuQtJl"
      },
      "source": [
        "estatistica['Nquad'] = estatistica.index\n",
        "estatistica['Nquad'].corr(estatistica['std'])"
      ],
      "execution_count": null,
      "outputs": []
    },
    {
      "cell_type": "code",
      "metadata": {
        "id": "JOH5tjeNSyWM"
      },
      "source": [
        "df.groupby('Nquad')['Erro'].describe()\n"
      ],
      "execution_count": null,
      "outputs": []
    },
    {
      "cell_type": "markdown",
      "metadata": {
        "id": "9NkDuWvdND5P"
      },
      "source": [
        "## Exercícios\n",
        "\n",
        "1. O comando a seguir agrupa os resultados pelo número de pontos sorteados no quadrado, mas calcula as estatítiscas do `Erro` ao invés do valor de `Pi`\n",
        "```python\n",
        "estatistica_erro = df.groupby('Nquad')['Erro'].describe()\n",
        "``` \n",
        "  a. Faça um gráfico da média, mínimo e máximo do `Erro`, agrupado por `Nquado`, usando a tabela `estatistica_erro`.\n",
        "  b. Usando `estatistica_erro`, calcule a correlação entre:\n",
        "      - A média do erro e o desvio padrão do erro\n",
        "      - A média do erro e o número de quadrados de cada simulação\n",
        "      - Os valores mínimo e máximo do erro\n",
        "  O que você pode concluir de difente, com relação à estatística do valor de `Pi` \n",
        "\n",
        "1. O comando a seguir agrupa os resultados pelo número de pontos sorteados no quadrado, mas calcula as estatítiscas do `Erro` ao invés do valor de `Pi`\n",
        "```python\n",
        "estatistica_ncirc = df.groupby('Nquad')['Ncirc'].describe()\n",
        "``` \n",
        "Repita os passos do exercício anterior, mas usando `estatistica_ncirc`. Como você compara as três análises. \n",
        "\n"
      ]
    }
  ]
}